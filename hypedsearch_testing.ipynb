{
 "cells": [
  {
   "attachments": {},
   "cell_type": "markdown",
   "metadata": {},
   "source": [
    "# Hypedsearch testing\n",
    "\n",
    "The goal of this notebook is to analyze the latest run of Hypedsearch"
   ]
  },
  {
   "attachments": {},
   "cell_type": "markdown",
   "metadata": {},
   "source": [
    "## Imports and Base Data"
   ]
  },
  {
   "cell_type": "code",
   "execution_count": 11,
   "metadata": {},
   "outputs": [],
   "source": [
    "import matplotlib.pyplot as plt\n",
    "from matplotlib_venn import venn2\n",
    "import yaml\n",
    "import os\n",
    "import glob\n",
    "\n",
    "from hypedsearch.src.preprocessing import load_spectra\n",
    "\n",
    "path_to_config = \"conf/config.yaml\"\n",
    "with open(path_to_config, 'rb') as f:\n",
    "    conf = yaml.safe_load(f.read())\n",
    "\n",
    "spectra_dir = conf['spectra_dir']\n",
    "database_file = conf['database_file']\n",
    "output_dir = conf['output_dir']\n",
    "ppm_tol = conf['ppm_tolerance']"
   ]
  },
  {
   "attachments": {},
   "cell_type": "markdown",
   "metadata": {},
   "source": [
    "## Tests"
   ]
  },
  {
   "attachments": {},
   "cell_type": "markdown",
   "metadata": {},
   "source": [
    "### 1. How many spectra did Comet identify and how many did Hypedsearch?"
   ]
  },
  {
   "cell_type": "code",
   "execution_count": 2,
   "metadata": {},
   "outputs": [],
   "source": [
    "def get_comet_results(results_dir):\n",
    "    count, prev_id = 0, -1\n",
    "    natives, hybrids = [], []\n",
    "    native_ids, hybrid_ids = [], []\n",
    "    native_parents, hybrid_parents = [], []\n",
    "    \n",
    "    for file in glob.glob(results_dir + \"/*txt\"):\n",
    "        with open(file, 'r') as c:\n",
    "            next(c)\n",
    "            next(c)\n",
    "            for line in c:\n",
    "                A = line.split(\"\\t\")\n",
    "                spec_id = A[0]\n",
    "                if spec_id != prev_id:\n",
    "                    prev_id = spec_id\n",
    "                    count = count + 1 #Counts number of id' spectra\n",
    "                parent = A[15]\n",
    "                seq = A[11]\n",
    "                if \"Hybrid\" not in parent:\n",
    "                    natives.append(seq)\n",
    "                    native_ids.append(int(spec_id))\n",
    "                    native_parents.append(parent)\n",
    "                else:\n",
    "                    hybrids.append(seq)\n",
    "                    hybrid_ids.append(int(spec_id))\n",
    "                    hybrid_parents.append(parent)\n",
    "                    \n",
    "    return natives, hybrids, count, native_ids, hybrid_ids, native_parents, hybrid_parents\n",
    "\n",
    "def get_hypedsearch_results(results_dir):\n",
    "    count, prev_id = 0, -1\n",
    "    natives, hybrids = [], []\n",
    "    native_ids, hybrid_ids = [], []\n",
    "    \n",
    "    for file in glob.glob(results_dir + \"/*txt\"):\n",
    "        with open(file, 'r') as h:\n",
    "            for line in h:\n",
    "                A = line.split(\"\\t\")\n",
    "                spec_id = A[0]\n",
    "                if spec_id != prev_id:\n",
    "                    prev_id = spec_id\n",
    "                    count = count + 1\n",
    "                hybrid_data = A[1]\n",
    "                seq = A[2]\n",
    "                if hybrid_data == \"Hybrid\":\n",
    "                    hybrids.append(seq.replace(\"-\",\"\"))\n",
    "                    hybrid_ids.append(int(spec_id))\n",
    "                else:\n",
    "                    natives.append(seq)\n",
    "                    native_ids.append(int(spec_id))\n",
    "                \n",
    "    return natives, hybrids, count, native_ids, hybrid_ids\n",
    "\n",
    "def intersection(lst1, lst2):\n",
    "    lst3 = []\n",
    "    for i, value in enumerate(lst1):\n",
    "        if value in lst2:\n",
    "            lst3.append(value)\n",
    "            \n",
    "    return lst3"
   ]
  },
  {
   "cell_type": "code",
   "execution_count": 3,
   "metadata": {},
   "outputs": [
    {
     "data": {
      "text/plain": [
       "Text(0.5, 1.0, 'Number of spectra identified for Comet and Hypedsearch')"
      ]
     },
     "execution_count": 3,
     "metadata": {},
     "output_type": "execute_result"
    },
    {
     "data": {
      "image/png": "[encoded data removed]",
      "text/plain": [
       "<Figure size 432x288 with 1 Axes>"
      ]
     },
     "metadata": {
      "needs_background": "light"
     },
     "output_type": "display_data"
    }
   ],
   "source": [
    "first_run_results = os.path.join(output_dir, 'comet_run_1')\n",
    "second_run_results = os.path.join(output_dir, 'comet_run_2')\n",
    "first_run_hypedsearch_results = os.path.join(output_dir, 'Hypedsearch_outputs')\n",
    "_, _, id_count, native_ids, hybrid_ids, _, _ = get_comet_results(first_run_results)\n",
    "_, _, hyp_id_count, hs_native_ids, hs_hybrid_ids = get_hypedsearch_results(first_run_hypedsearch_results)\n",
    "_, _, id_count2, native_ids2, hybrid_ids2, _, _ = get_comet_results(second_run_results)\n",
    "\n",
    "plt.bar([\"Comet 1st run\", \"Comet 2nd run\", \"Hypedsearch\"], [id_count, id_count2, hyp_id_count], color = \"blue\")\n",
    "plt.xlabel(\"Program\")\n",
    "plt.ylabel(\"Number of spectra identified\")\n",
    "plt.title(\"Number of spectra identified for Comet and Hypedsearch\")\n"
   ]
  },
  {
   "attachments": {},
   "cell_type": "markdown",
   "metadata": {},
   "source": [
    "### 2. Out of the spectra Comet identified, did Hypedsearch identify them as well? Out of the spectra Hypedsearch identified, did Comet identify them as well?\n",
    "\n",
    "Venn diagram for natives and hybrids\n",
    "\n",
    "Q: Are the green things novel natives? How often are these things the top scoring native?"
   ]
  },
  {
   "cell_type": "code",
   "execution_count": 4,
   "metadata": {},
   "outputs": [
    {
     "data": {
      "image/png": "[encoded data removed]",
      "text/plain": [
       "<Figure size 432x288 with 1 Axes>"
      ]
     },
     "metadata": {},
     "output_type": "display_data"
    },
    {
     "data": {
      "image/png": "[encoded data removed]",
      "text/plain": [
       "<Figure size 432x288 with 1 Axes>"
      ]
     },
     "metadata": {},
     "output_type": "display_data"
    }
   ],
   "source": [
    "comet_natives, comet_hybrids, id_count, native_ids, hybrid_ids, native_parents, hybrid_parents = get_comet_results(first_run_results)\n",
    "hypedsearch_natives, hypedsearch_hybrids, hyp_id_count, hs_native_ids, hs_hybrid_ids = get_hypedsearch_results(first_run_hypedsearch_results)\n",
    "native_intersection = intersection(comet_natives, hypedsearch_natives)\n",
    "hybrid_intersection = intersection(comet_hybrids, hypedsearch_hybrids)\n",
    "\n",
    "\n",
    "native_venn = venn2(subsets = (len(comet_natives), len(hypedsearch_natives), len(native_intersection)), set_labels= (\"Comet Natives\", \"Hypedsearch Natives\"))\n",
    "plt.show()\n",
    "hybrid_venn = venn2(subsets = (len(comet_hybrids), len(hypedsearch_hybrids), len(hybrid_intersection)), set_labels= (\"Comet Hybrids\", \"Hypedsearch Hybrids\"))\n",
    "plt.show()"
   ]
  },
  {
   "attachments": {},
   "cell_type": "markdown",
   "metadata": {},
   "source": [
    "### 3. What about on the second time Comet ran?"
   ]
  },
  {
   "cell_type": "code",
   "execution_count": 5,
   "metadata": {},
   "outputs": [
    {
     "data": {
      "image/png": "[encoded data removed]",
      "text/plain": [
       "<Figure size 432x288 with 1 Axes>"
      ]
     },
     "metadata": {},
     "output_type": "display_data"
    },
    {
     "data": {
      "image/png": "[encoded data removed]",
      "text/plain": [
       "<Figure size 432x288 with 1 Axes>"
      ]
     },
     "metadata": {},
     "output_type": "display_data"
    }
   ],
   "source": [
    "comet_natives, comet_hybrids, id_count, native_ids2, hybrid_ids2, native_parents2, hybrid_parents2 = get_comet_results(second_run_results)\n",
    "native_intersection = intersection(comet_natives, hypedsearch_natives)\n",
    "hybrid_intersection = intersection(comet_hybrids, hypedsearch_hybrids)\n",
    "\n",
    "native_venn = venn2(subsets = (len(comet_natives), len(hypedsearch_natives), len(native_intersection)), set_labels= (\"Comet Natives\", \"Hypedsearch Natives\"))\n",
    "plt.show()\n",
    "hybrid_venn = venn2(subsets = (len(comet_hybrids), len(hypedsearch_hybrids), len(hybrid_intersection)), set_labels= (\"Comet Hybrids\", \"Hypedsearch Hybrids\"))\n",
    "plt.show()"
   ]
  },
  {
   "attachments": {},
   "cell_type": "markdown",
   "metadata": {},
   "source": [
    "### For Comet Hybrids not found in Hypedsearch, are they decoys?\n",
    "\n",
    "Q: How many things in red are decoys?\n",
    "\n",
    "Q: How many things in green correspond to Comet hybrids?\n",
    "\n",
    "Q: How many things in green are not the top scoring Hypedsearch hybrid?"
   ]
  },
  {
   "cell_type": "code",
   "execution_count": 6,
   "metadata": {},
   "outputs": [],
   "source": [
    "def get_decoys(filepath):\n",
    "    decoy_list = []\n",
    "    for file in glob.glob(filepath + \"/*txt\"):\n",
    "        with open(file, 'r') as c:\n",
    "                next(c)\n",
    "                next(c)\n",
    "                for line in c:\n",
    "                    A = line.split(\"\\t\")\n",
    "                    parent_prot = A[15]\n",
    "                    seq = A[11]\n",
    "                    if \"DECOY\" in parent_prot:\n",
    "                        decoy_list.append(seq)\n",
    "        \n",
    "    return decoy_list, set(decoy_list)\n",
    "\n",
    "def check_for_mouse(protein_list):\n",
    "    for protein in protein_list:\n",
    "        if \"Hypedsearch\" not in protein:\n",
    "            return True\n",
    "    \n",
    "    return False\n",
    "\n",
    "def check_subsequence(hybrid, parent_set):\n",
    "    # want to check whether this hybrid is a subsequence of either side of any parent\n",
    "    \n",
    "    for parent in parent_set:\n",
    "        target_seq = parent.split(\"_\")[-1]\n",
    "        left_parent, right_parent = target_seq.split(\"-\")\n",
    "        if hybrid in left_parent or hybrid in right_parent:\n",
    "            return True\n",
    "    \n",
    "    return False"
   ]
  },
  {
   "cell_type": "code",
   "execution_count": 7,
   "metadata": {},
   "outputs": [
    {
     "name": "stdout",
     "output_type": "stream",
     "text": [
      "3395 3397 6792 0\n"
     ]
    }
   ],
   "source": [
    "decoy_hybrids, interesting_hybrids = [], []\n",
    "for i, hybrid in enumerate(comet_hybrids):\n",
    "    if hybrid not in hybrid_intersection:\n",
    "        scan_num = hybrid_ids2[i]\n",
    "        parent = hybrid_parents2[i]\n",
    "        if \"DECOY\" in parent:\n",
    "            decoy_hybrids.append((hybrid, scan_num, parent))\n",
    "        else:\n",
    "            interesting_hybrids.append((hybrid, scan_num, parent))\n",
    "\n",
    "print(len(decoy_hybrids), len(interesting_hybrids), len(comet_hybrids) - len(hybrid_intersection), len(intersection(decoy_hybrids, interesting_hybrids)))"
   ]
  },
  {
   "cell_type": "code",
   "execution_count": 8,
   "metadata": {},
   "outputs": [
    {
     "name": "stdout",
     "output_type": "stream",
     "text": [
      "1029 2368 2368\n"
     ]
    }
   ],
   "source": [
    "# Now to look into interesting hybrids\n",
    "\n",
    "# Want to see if these are actually natives. I.e, if we take out the natives, what's left?\n",
    "\n",
    "current_natives, very_interesting_hybrids = [], []\n",
    "for hybrid, scan_num, parent in interesting_hybrids:\n",
    "    parent_list = parent.split(\",\")\n",
    "    if check_for_mouse(parent_list):\n",
    "        current_natives.append(hybrid)\n",
    "    else:\n",
    "        parent_set = set(parent_list)\n",
    "        \n",
    "        if check_subsequence(hybrid, parent_set):\n",
    "            current_natives.append((hybrid, scan_num, parent))\n",
    "        \n",
    "        else:\n",
    "            very_interesting_hybrids.append((hybrid, scan_num, parent))\n",
    "        \n",
    "\n",
    "print(len(current_natives), len(interesting_hybrids) - len(current_natives), len(very_interesting_hybrids))"
   ]
  },
  {
   "cell_type": "code",
   "execution_count": 9,
   "metadata": {},
   "outputs": [
    {
     "data": {
      "image/png": "[encoded data removed]",
      "text/plain": [
       "<Figure size 432x288 with 1 Axes>"
      ]
     },
     "metadata": {},
     "output_type": "display_data"
    },
    {
     "data": {
      "image/png": "[encoded data removed]",
      "text/plain": [
       "<Figure size 432x288 with 1 Axes>"
      ]
     },
     "metadata": {},
     "output_type": "display_data"
    }
   ],
   "source": [
    "# So now for when natives are moved to where they should be\n",
    "native_venn = venn2(subsets = (len(comet_natives)+len(current_natives), len(hypedsearch_natives), len(native_intersection)), set_labels= (\"Comet Natives\", \"Hypedsearch Natives\"))\n",
    "plt.show()\n",
    "hybrid_venn = venn2(subsets = (len(comet_hybrids)-len(current_natives), len(hypedsearch_hybrids), len(hybrid_intersection)), set_labels= (\"Comet Hybrids\", \"Hypedsearch Hybrids\"))\n",
    "plt.show()"
   ]
  },
  {
   "cell_type": "code",
   "execution_count": 17,
   "metadata": {},
   "outputs": [],
   "source": [
    "def get_spectra_files(spectra_folder):\n",
    "    spectra_files = []\n",
    "    for (root, _, filenames) in os.walk(spectra_folder):\n",
    "        for fname in filenames:\n",
    "            spectra_files.append(os.path.join(root, fname))\n",
    "    return spectra_files\n",
    "\n",
    "def get_spectrum(spectra_dir):\n",
    "    spectra_files = get_spectra_files(spectra_dir)\n",
    "    for file in spectra_files:\n",
    "        filename = os.path.basename(file)\n",
    "        left_part = filename.split(\".\")\n",
    "        \n",
    "\n",
    "def test_better_score(seq1, seq2, tol, spectra_dir, database_file):\n",
    "    spectrum = get_spectrum(spectra_dir)\n",
    "    # proteins = build_proteins()\n",
    "    # score = overlap_scoring(seq1, input_spectrum.mz_values, tol, False, proteins)\n",
    "    # score += losing_water(seq2, input_spectrum.mz_values, tol, False, proteins)\n"
   ]
  },
  {
   "cell_type": "code",
   "execution_count": 18,
   "metadata": {},
   "outputs": [
    {
     "name": "stdout",
     "output_type": "stream",
     "text": [
      "Out of 2368 total hybrids, there were 1338 that HS returned nothing for and 1030 that Hypedsearch gave something else for\n",
      "('GQLGLPDEENLSER', 25, 'sp|P01325|Hypedsearch_Hybrid_GQLGLPDEEN-LSERDINLA')\n"
     ]
    }
   ],
   "source": [
    "# Now to look into very interesting hybrids. It turns out these are hybrids that we got lucky and Comet found while Hypedsearch didn't\n",
    "\n",
    "    \n",
    "# with open(\"very_interesting_hybrids.txt\", 'w') as v:\n",
    "#     [v.write(str(x) + \"\\n\") for x in very_interesting_hybrids]\n",
    "    \n",
    "# Now let's compare these hybrids to what Hypedsearch returned. Did Hypedsearch return anything? Should this have beaten the Hypedsearch result?\n",
    "\n",
    "HS_missed, HS_different = [], []\n",
    "for hybrid, scan_num, parent in very_interesting_hybrids:\n",
    "    if scan_num not in hs_hybrid_ids:\n",
    "        HS_missed.append((hybrid, scan_num, parent))\n",
    "    else:\n",
    "        HS_different.append((hybrid, scan_num, parent))\n",
    "        \n",
    "print(\"Out of\", len(very_interesting_hybrids), \"total hybrids, there were\", len(HS_missed), \"that HS returned nothing for and\", len(HS_different), \"that Hypedsearch gave something else for\")\n",
    "\n",
    "\n",
    "# find what hypedsearch returned with this scan_number\n",
    "print(HS_different[0])\n",
    "HS_better, HS_worse, HS_same = [], [], []\n",
    "for hybrid, scan, parent in HS_different:\n",
    "    for i, comet_scan in enumerate(hybrid_ids2):\n",
    "        if scan == comet_scan:\n",
    "            comet_result = comet_hybrids[i]\n",
    "            verdict = test_better_score(hybrid, comet_result, ppm_tol, spectra_dir, database_file)\n",
    "            if verdict == 0:\n",
    "                HS_better.append(((hybrid, scan), (comet_result, comet_scan)))\n",
    "            elif verdict == 1:\n",
    "                HS_same.append((hybrid, scan))\n",
    "            else:\n",
    "                HS_worse.append((hybrid, scan))\n",
    "                \n",
    "            # run HS_result and hybrid through the hypedsearch scoring algorithm and see which is better"
   ]
  },
  {
   "cell_type": "code",
   "execution_count": null,
   "metadata": {},
   "outputs": [],
   "source": [
    "venn = venn2(subsets = (len(HS_better), len(HS_worse), len(HS_same)), set_labels= (\"Hypedsearch scored better\", \"Comet scored better\"))\n",
    "plt.show()\n"
   ]
  },
  {
   "attachments": {},
   "cell_type": "markdown",
   "metadata": {},
   "source": [
    "# How many possible hybrids for a given mass?\n",
    "\n",
    "## Can this be respresented in O(n)?"
   ]
  },
  {
   "attachments": {},
   "cell_type": "markdown",
   "metadata": {},
   "source": []
  }
 ],
 "metadata": {
  "kernelspec": {
   "display_name": "Python 3",
   "language": "python",
   "name": "python3"
  },
  "language_info": {
   "codemirror_mode": {
    "name": "ipython",
    "version": 3
   },
   "file_extension": ".py",
   "mimetype": "text/x-python",
   "name": "python",
   "nbconvert_exporter": "python",
   "pygments_lexer": "ipython3",
   "version": "3.8.16"
  },
  "orig_nbformat": 4
 },
 "nbformat": 4,
 "nbformat_minor": 2
}
